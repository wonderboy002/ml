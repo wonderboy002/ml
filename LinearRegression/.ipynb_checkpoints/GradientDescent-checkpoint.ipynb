{
 "cells": [
  {
   "cell_type": "code",
   "execution_count": 66,
   "metadata": {},
   "outputs": [],
   "source": [
    "import numpy as np\n",
    "import matplotlib.pyplot as plt\n",
    "import math"
   ]
  },
  {
   "cell_type": "code",
   "execution_count": 67,
   "id": "92abbf23",
   "metadata": {},
   "outputs": [],
   "source": [
    "#initialize the data points\n",
    "x=np.array([1.0,2.0],dtype=float)\n",
    "y=np.array([300,600],dtype=float)"
   ]
  },
  {
   "cell_type": "code",
   "execution_count": 68,
   "id": "63010f1d",
   "metadata": {},
   "outputs": [],
   "source": [
    "#function to calculate value of cost function J(w,b)=1/2m*sum(f(xi)-yi)^2\n",
    "def findCost(x,y,w,b):\n",
    "    m=x.shape[0]\n",
    "    cost=0\n",
    "    for i in range(0,m):\n",
    "        f_wb=w*x[i]+b\n",
    "        cost=cost+(f_wb-y[i])**2\n",
    "    totalCost=cost/(2*m)\n",
    "    return totalCost\n",
    "    "
   ]
  },
  {
   "cell_type": "code",
   "execution_count": 69,
   "id": "116d9301",
   "metadata": {},
   "outputs": [],
   "source": [
    "#computing gradients\n",
    "def computeGradient(x,y,w,b):\n",
    "    m=x.shape[0]\n",
    "    tempw=0\n",
    "    tempb=0\n",
    "    for i in range(m):\n",
    "        f_wb=w*x[i]+b\n",
    "        tempw_i=(f_wb-y[i])*x[i]\n",
    "        tempb_i=(f_wb-y[i])\n",
    "        tempw+=tempw_i\n",
    "        tempb+=tempb_i\n",
    "    #compute final gradients\n",
    "    dj_dw=tempw/m\n",
    "    dj_db=tempb/m\n",
    "\n",
    "    return dj_dw,dj_db"
   ]
  },
  {
   "cell_type": "code",
   "execution_count": 70,
   "id": "d0980819",
   "metadata": {},
   "outputs": [],
   "source": [
    "#main gradient descent algorithm\n",
    "def gradientDescent(x,y,wInitial,bInitial,alpha,n,costFunc,gradientFunc):\n",
    "    #arrays to store history of J values and [w,b]\n",
    "    Jhistory=[]\n",
    "    Phistory=[]\n",
    "    w=wInitial\n",
    "    b=bInitial\n",
    "\n",
    "    for i in range(n):\n",
    "        #calculate gradients\n",
    "        dj_dw,dj_db=computeGradient(x,y,w,b)\n",
    "        #update w and b\n",
    "        w=w-alpha*dj_dw\n",
    "        b=b-alpha*dj_db\n",
    "\n",
    "        #store history\n",
    "        Jhistory.append(costFunc(x,y,w,b))\n",
    "        Phistory.append([w,b])\n",
    "\n",
    "        #print cost after 10 iterations\n",
    "        if i% math.ceil(n/10) == 0:\n",
    "            print(f\"Iteration {i:4}: Cost {Jhistory[-1]:0.2e} \",\n",
    "                  f\"dj_dw: {dj_dw: 0.3e}, dj_db: {dj_db: 0.3e}  \",\n",
    "                  f\"w: {w: 0.3e}, b:{b: 0.5e}\")\n",
    "    return w,b,Jhistory,Phistory\n"
   ]
  },
  {
   "cell_type": "code",
   "execution_count": 71,
   "id": "2a1318d4",
   "metadata": {},
   "outputs": [
    {
     "name": "stdout",
     "output_type": "stream",
     "text": [
      "Iteration    0: Cost 1.05e+05  dj_dw: -7.500e+02, dj_db: -4.500e+02   w:  7.500e+00, b: 4.50000e+00\n",
      "Iteration 1000: Cost 2.11e+02  dj_dw: -2.916e+00, dj_db:  4.718e+00   w:  2.601e+02, b: 6.46235e+01\n",
      "Iteration 2000: Cost 4.89e+01  dj_dw: -1.405e+00, dj_db:  2.274e+00   w:  2.807e+02, b: 3.11502e+01\n",
      "Iteration 3000: Cost 1.14e+01  dj_dw: -6.775e-01, dj_db:  1.096e+00   w:  2.907e+02, b: 1.50152e+01\n",
      "Iteration 4000: Cost 2.64e+00  dj_dw: -3.266e-01, dj_db:  5.284e-01   w:  2.955e+02, b: 7.23773e+00\n",
      "Iteration 5000: Cost 6.14e-01  dj_dw: -1.574e-01, dj_db:  2.547e-01   w:  2.978e+02, b: 3.48878e+00\n",
      "Iteration 6000: Cost 1.43e-01  dj_dw: -7.587e-02, dj_db:  1.228e-01   w:  2.990e+02, b: 1.68168e+00\n",
      "Iteration 7000: Cost 3.31e-02  dj_dw: -3.657e-02, dj_db:  5.918e-02   w:  2.995e+02, b: 8.10616e-01\n",
      "Iteration 8000: Cost 7.70e-03  dj_dw: -1.763e-02, dj_db:  2.852e-02   w:  2.998e+02, b: 3.90738e-01\n",
      "Iteration 9000: Cost 1.79e-03  dj_dw: -8.498e-03, dj_db:  1.375e-02   w:  2.999e+02, b: 1.88346e-01\n",
      "(w,b) found by gradient descent: (299.9438,  0.0909)\n"
     ]
    }
   ],
   "source": [
    "#driver code\n",
    "# initialize parameters\n",
    "w_init = 0\n",
    "b_init = 0\n",
    "# some gradient descent settings\n",
    "iterations = 10000\n",
    "tmp_alpha = 1.0e-2\n",
    "# run gradient descent\n",
    "w_final, b_final, J_hist, p_hist = gradientDescent(x ,y, w_init, b_init, tmp_alpha, \n",
    "                                                    iterations, findCost, computeGradient)\n",
    "print(f\"(w,b) found by gradient descent: ({w_final:8.4f},{b_final:8.4f})\")"
   ]
  },
  {
   "cell_type": "code",
   "execution_count": 72,
   "id": "fc2f4533",
   "metadata": {},
   "outputs": [
    {
     "name": "stdout",
     "output_type": "stream",
     "text": [
      "1000 sqft house prediction 300.0 Thousand dollars\n",
      "1200 sqft house prediction 360.0 Thousand dollars\n",
      "2000 sqft house prediction 600.0 Thousand dollars\n",
      "2000 sqft house prediction 899.9 Thousand dollars\n",
      "2000 sqft house prediction 1199.9 Thousand dollars\n"
     ]
    }
   ],
   "source": [
    "#Predictions\n",
    "print(f\"1000 sqft house prediction {w_final*1.0 + b_final:0.1f} Thousand dollars\")\n",
    "print(f\"1200 sqft house prediction {w_final*1.2 + b_final:0.1f} Thousand dollars\")\n",
    "print(f\"2000 sqft house prediction {w_final*2.0 + b_final:0.1f} Thousand dollars\")\n",
    "print(f\"2000 sqft house prediction {w_final*3.0 + b_final:0.1f} Thousand dollars\")\n",
    "print(f\"2000 sqft house prediction {w_final*4.0 + b_final:0.1f} Thousand dollars\")"
   ]
  }
 ],
 "metadata": {
  "kernelspec": {
   "display_name": "Python 3",
   "language": "python",
   "name": "python3"
  },
  "language_info": {
   "codemirror_mode": {
    "name": "ipython",
    "version": 3
   },
   "file_extension": ".py",
   "mimetype": "text/x-python",
   "name": "python",
   "nbconvert_exporter": "python",
   "pygments_lexer": "ipython3",
   "version": "3.11.0"
  }
 },
 "nbformat": 4,
 "nbformat_minor": 5
}
