{
 "cells": [
  {
   "cell_type": "code",
   "execution_count": 22,
   "metadata": {},
   "outputs": [],
   "source": [
    "import numpy as np\n",
    "import matplotlib.pyplot as plt\n",
    "import math"
   ]
  },
  {
   "cell_type": "code",
   "execution_count": 23,
   "id": "92abbf23",
   "metadata": {},
   "outputs": [],
   "source": [
    "#initialize the data points\n",
    "x=np.array([1.0,2.0],dtype=float)\n",
    "y=np.array([300,500],dtype=float)"
   ]
  },
  {
   "cell_type": "code",
   "execution_count": 24,
   "id": "63010f1d",
   "metadata": {},
   "outputs": [],
   "source": [
    "#function to calculate value of cost function J(w,b)=1/2m*sum(f(xi)-yi)^2\n",
    "def findCost(x,y,w,b):\n",
    "    m=x.shape[0]\n",
    "    cost=0\n",
    "    for i in range(0,m):\n",
    "        f_wb=w*x[i]+b\n",
    "        cost=cost+(f_wb-y[i])**2\n",
    "    totalCost=cost/(2*m)\n",
    "    return totalCost\n",
    "    "
   ]
  },
  {
   "cell_type": "code",
   "execution_count": 25,
   "id": "116d9301",
   "metadata": {},
   "outputs": [],
   "source": [
    "#computing gradients\n",
    "def computeGradient(x,y,w,b):\n",
    "    m=x.shape[0]\n",
    "    tempw=0\n",
    "    tempb=0\n",
    "    for i in range(m):\n",
    "        f_wb=w*x[i]+b\n",
    "        tempw_i=(f_wb-y[i])*x[i]\n",
    "        tempb_i=(f_wb-y[i])\n",
    "        tempw+=tempw_i\n",
    "        tempb+=tempb_i\n",
    "    #compute final gradients\n",
    "    dj_dw=tempw/m\n",
    "    dj_db=tempb/m\n",
    "\n",
    "    return dj_dw,dj_db"
   ]
  },
  {
   "cell_type": "code",
   "execution_count": 26,
   "id": "d0980819",
   "metadata": {},
   "outputs": [],
   "source": [
    "#main gradient descent algorithm\n",
    "def gradientDescent(x,y,wInitial,bInitial,alpha,n,costFunc,gradientFunc):\n",
    "    #arrays to store history of J values and [w,b]\n",
    "    Jhistory=[]\n",
    "    Phistory=[]\n",
    "    w=wInitial\n",
    "    b=bInitial\n",
    "\n",
    "    for i in range(n):\n",
    "        #calculate gradients\n",
    "        dj_dw,dj_db=computeGradient(x,y,w,b)\n",
    "        #update w and b\n",
    "        w=w-alpha*dj_dw\n",
    "        b=b-alpha*dj_db\n",
    "\n",
    "        #store history\n",
    "        Jhistory.append(costFunc(x,y,w,b))\n",
    "        Phistory.append([w,b])\n",
    "\n",
    "        #print cost after 10 iterations\n",
    "        if i% math.ceil(n/10) == 0:\n",
    "            print(f\"Iteration {i:4}: Cost {Jhistory[-1]:0.2e} \",\n",
    "                  f\"dj_dw: {dj_dw: 0.3e}, dj_db: {dj_db: 0.3e}  \",\n",
    "                  f\"w: {w: 0.3e}, b:{b: 0.5e}\")\n",
    "    return w,b,Jhistory,Phistory\n"
   ]
  },
  {
   "cell_type": "code",
   "execution_count": 27,
   "id": "2a1318d4",
   "metadata": {},
   "outputs": [
    {
     "name": "stdout",
     "output_type": "stream",
     "text": [
      "Iteration    0: Cost 7.93e+04  dj_dw: -6.500e+02, dj_db: -4.000e+02   w:  6.500e+00, b: 4.00000e+00\n",
      "Iteration 1000: Cost 3.41e+00  dj_dw: -3.712e-01, dj_db:  6.007e-01   w:  1.949e+02, b: 1.08228e+02\n",
      "Iteration 2000: Cost 7.93e-01  dj_dw: -1.789e-01, dj_db:  2.895e-01   w:  1.975e+02, b: 1.03966e+02\n",
      "Iteration 3000: Cost 1.84e-01  dj_dw: -8.625e-02, dj_db:  1.396e-01   w:  1.988e+02, b: 1.01912e+02\n",
      "Iteration 4000: Cost 4.28e-02  dj_dw: -4.158e-02, dj_db:  6.727e-02   w:  1.994e+02, b: 1.00922e+02\n",
      "Iteration 5000: Cost 9.95e-03  dj_dw: -2.004e-02, dj_db:  3.243e-02   w:  1.997e+02, b: 1.00444e+02\n",
      "Iteration 6000: Cost 2.31e-03  dj_dw: -9.660e-03, dj_db:  1.563e-02   w:  1.999e+02, b: 1.00214e+02\n",
      "Iteration 7000: Cost 5.37e-04  dj_dw: -4.657e-03, dj_db:  7.535e-03   w:  1.999e+02, b: 1.00103e+02\n",
      "Iteration 8000: Cost 1.25e-04  dj_dw: -2.245e-03, dj_db:  3.632e-03   w:  2.000e+02, b: 1.00050e+02\n",
      "Iteration 9000: Cost 2.90e-05  dj_dw: -1.082e-03, dj_db:  1.751e-03   w:  2.000e+02, b: 1.00024e+02\n",
      "(w,b) found by gradient descent: (199.9929,100.0116)\n"
     ]
    }
   ],
   "source": [
    "#driver code\n",
    "# initialize parameters\n",
    "w_init = 0\n",
    "b_init = 0\n",
    "# some gradient descent settings\n",
    "iterations = 10000\n",
    "tmp_alpha = 1.0e-2\n",
    "# run gradient descent\n",
    "w_final, b_final, J_hist, p_hist = gradientDescent(x ,y, w_init, b_init, tmp_alpha, \n",
    "                                                    iterations, findCost, computeGradient)\n",
    "print(f\"(w,b) found by gradient descent: ({w_final:8.4f},{b_final:8.4f})\")"
   ]
  },
  {
   "cell_type": "code",
   "execution_count": 30,
   "id": "fc2f4533",
   "metadata": {},
   "outputs": [
    {
     "name": "stdout",
     "output_type": "stream",
     "text": [
      "1000 sqft house prediction 300.0 Thousand dollars\n",
      "1200 sqft house prediction 340.0 Thousand dollars\n",
      "2000 sqft house prediction 500.0 Thousand dollars\n",
      "2000 sqft house prediction 700.0 Thousand dollars\n",
      "2000 sqft house prediction 900.0 Thousand dollars\n"
     ]
    }
   ],
   "source": [
    "#Predictions\n",
    "print(f\"1000 sqft house prediction {w_final*1.0 + b_final:0.1f} Thousand dollars\")\n",
    "print(f\"1200 sqft house prediction {w_final*1.2 + b_final:0.1f} Thousand dollars\")\n",
    "print(f\"2000 sqft house prediction {w_final*2.0 + b_final:0.1f} Thousand dollars\")\n",
    "print(f\"2000 sqft house prediction {w_final*3.0 + b_final:0.1f} Thousand dollars\")\n",
    "print(f\"2000 sqft house prediction {w_final*4.0 + b_final:0.1f} Thousand dollars\")"
   ]
  }
 ],
 "metadata": {
  "kernelspec": {
   "display_name": "Python 3",
   "language": "python",
   "name": "python3"
  },
  "language_info": {
   "codemirror_mode": {
    "name": "ipython",
    "version": 3
   },
   "file_extension": ".py",
   "mimetype": "text/x-python",
   "name": "python",
   "nbconvert_exporter": "python",
   "pygments_lexer": "ipython3",
   "version": "3.11.0"
  }
 },
 "nbformat": 4,
 "nbformat_minor": 5
}
