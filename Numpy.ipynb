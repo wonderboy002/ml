{
 "cells": [
  {
   "cell_type": "code",
   "execution_count": null,
   "metadata": {},
   "outputs": [],
   "source": [
    "print(\"Hello world\")"
   ]
  },
  {
   "cell_type": "code",
   "execution_count": null,
   "id": "6fc1f387",
   "metadata": {},
   "outputs": [],
   "source": [
    "import numpy as np"
   ]
  },
  {
   "cell_type": "markdown",
   "id": "c05c1271",
   "metadata": {},
   "source": [
    "ARRAY INITIALIZATION AND BASICS\n"
   ]
  },
  {
   "cell_type": "code",
   "execution_count": null,
   "id": "ff40288c",
   "metadata": {},
   "outputs": [],
   "source": [
    "arr=np.array([1,3,4],dtype='int16')\n",
    "print(arr.ndim,arr) #ndim to get array dimensions\n",
    "print(arr.shape)#getting rows and columns "
   ]
  },
  {
   "cell_type": "code",
   "execution_count": null,
   "id": "ff2a2b88",
   "metadata": {},
   "outputs": [],
   "source": [
    "b=np.array([[1.1,1.3,1.5],[2.3,3.5,6.7]])\n",
    "print(b,b.ndim)\n",
    "print(b.shape)"
   ]
  },
  {
   "cell_type": "code",
   "execution_count": null,
   "id": "92e9239f",
   "metadata": {},
   "outputs": [],
   "source": [
    "#checking data type of arrays\n",
    "#int32 and float64 is default can change during initialization\n",
    "print(b.dtype)\n",
    "print(arr.dtype)\n",
    "#getting size of item\n",
    "print(b.itemsize)\n",
    "print(arr.itemsize)"
   ]
  },
  {
   "cell_type": "code",
   "execution_count": null,
   "id": "9f628bd1",
   "metadata": {},
   "outputs": [],
   "source": [
    "#get total bytes consumed by array\n",
    "print(arr.nbytes)\n",
    "print(b.nbytes)"
   ]
  },
  {
   "cell_type": "code",
   "execution_count": null,
   "id": "a98bcb5c",
   "metadata": {},
   "outputs": [],
   "source": [
    "#get number of elements in array\n",
    "print(arr.size)\n",
    "print(b.size)"
   ]
  },
  {
   "cell_type": "markdown",
   "id": "601a6eff",
   "metadata": {},
   "source": [
    "ACCESSING ELEMENTS"
   ]
  },
  {
   "cell_type": "code",
   "execution_count": null,
   "id": "8abd3d9d",
   "metadata": {},
   "outputs": [],
   "source": [
    "a=np.array([[1,2,3,4,5,6],[7,8,9,10,11,12]])\n",
    "print(a,a.shape)"
   ]
  },
  {
   "cell_type": "code",
   "execution_count": null,
   "id": "af90c48b",
   "metadata": {},
   "outputs": [],
   "source": [
    "#get a specific element using [r,c]\n",
    "print(a[1,4])\n",
    "print(a[0,4])\n",
    "print(a[1,3])\n",
    "print(a[1,5])\n",
    "print(a[0,5])\n",
    "print(a[1,-1])\n",
    "print(a[0,-1])\n",
    "print(a[0,-2])\n",
    "print(a[1,-2])"
   ]
  },
  {
   "cell_type": "code",
   "execution_count": null,
   "id": "61b9222e",
   "metadata": {},
   "outputs": [],
   "source": [
    "#get specific row\n",
    "print(a[0,:])\n",
    "print(a[1,:])\n",
    "#get specific column\n",
    "print(a[:,1])\n",
    "print(a[:,2])\n",
    "print(a[:,0])\n",
    "print(a[:,4])\n",
    "print(a[:,5])"
   ]
  },
  {
   "cell_type": "code",
   "execution_count": null,
   "id": "93d27a79",
   "metadata": {},
   "outputs": [],
   "source": [
    "#printing elements of a particular row in steps\n",
    "print(a[0,0:5:2])\n",
    "print(a[1,2:5:2]) \n",
    "print(a[0,-1:-5:-2])\n",
    "print(a[1,-1:-5:-2])"
   ]
  },
  {
   "cell_type": "code",
   "execution_count": null,
   "id": "d49d8896",
   "metadata": {},
   "outputs": [],
   "source": [
    "#updating values\n",
    "a[0,5]=66\n",
    "print(a[0,5])\n",
    "#updating entire column\n",
    "a[:,4]=6\n",
    "print(a)\n",
    "#updating entire row\n",
    "a[1:,]=-1\n",
    "print(a)"
   ]
  },
  {
   "cell_type": "code",
   "execution_count": null,
   "id": "c4a06a2b",
   "metadata": {},
   "outputs": [],
   "source": [
    "#3d arrays\n",
    "c=np.array([\n",
    "    [[1,2],[3,4]],\n",
    "    [[6,7,],[8,9]]\n",
    "])\n",
    "print(c)\n",
    "print(c.shape)\n"
   ]
  },
  {
   "cell_type": "code",
   "execution_count": null,
   "id": "b49f69e5",
   "metadata": {},
   "outputs": [],
   "source": [
    "#accessing particular elements of 3d array\n",
    "print(c[0,1,0])\n",
    "print(c[0,1,-1])\n",
    "print(c[1,1,-1])\n",
    "print(c[1,0,-1])\n",
    "print(c[1,0,0])\n",
    "print(c[0,0,0])\n",
    "print(c[0,0,1])\n",
    "print(c[1,1,0])"
   ]
  },
  {
   "cell_type": "code",
   "execution_count": null,
   "id": "ab7b5df0",
   "metadata": {},
   "outputs": [],
   "source": [
    "#updating a matrix in 3d array\n",
    "c[0]=np.array([[-1,0],[0,-1]])\n",
    "c\n",
    "#updating a column of a particular 2d matrix of a 3d array\n",
    "c[1,:,0]=33\n",
    "print(c)\n",
    "#updating a row of a particular 2d matrix of a 3d array\n",
    "c[0,0,:]=1\n",
    "print(c)"
   ]
  },
  {
   "cell_type": "markdown",
   "id": "05e16409",
   "metadata": {},
   "source": [
    "INITIALISING ARRAYS WITH DEFAULT VALUES\n"
   ]
  },
  {
   "cell_type": "code",
   "execution_count": null,
   "id": "decca8e6",
   "metadata": {},
   "outputs": [],
   "source": [
    "import numpy as np"
   ]
  },
  {
   "cell_type": "code",
   "execution_count": null,
   "id": "6453f4c8",
   "metadata": {},
   "outputs": [],
   "source": [
    "#initialising with zeroes\n",
    "np.zeros((2,3,2),dtype='int16')"
   ]
  },
  {
   "cell_type": "code",
   "execution_count": null,
   "id": "2c6ab80f",
   "metadata": {},
   "outputs": [],
   "source": [
    "#all 1's matrices\n",
    "np.ones((4,3,3),dtype='int16')"
   ]
  },
  {
   "cell_type": "code",
   "execution_count": null,
   "id": "bbee48c3",
   "metadata": {},
   "outputs": [],
   "source": [
    "np.full((3,3),True,dtype='bool')"
   ]
  },
  {
   "cell_type": "code",
   "execution_count": null,
   "id": "a90d3128",
   "metadata": {},
   "outputs": [],
   "source": [
    "#with random decimal numbers\n",
    "print(np.random.rand(3,3))\n",
    "print(np.random.random_sample(a.shape))"
   ]
  },
  {
   "cell_type": "code",
   "execution_count": null,
   "id": "d4db956b",
   "metadata": {},
   "outputs": [],
   "source": [
    "#random integers\n",
    "print(np.random.randint(1,50,size=(3,3)))"
   ]
  },
  {
   "cell_type": "code",
   "execution_count": null,
   "id": "bf3d68c0",
   "metadata": {},
   "outputs": [],
   "source": [
    "#constructing identity matrices\n",
    "print(np.identity(3))\n",
    "print(np.identity(2))\n",
    "print(np.identity(4))"
   ]
  },
  {
   "cell_type": "markdown",
   "id": "bcd79cbb",
   "metadata": {},
   "source": [
    "COPYING ARRAYS"
   ]
  },
  {
   "cell_type": "code",
   "execution_count": null,
   "id": "801a6112",
   "metadata": {},
   "outputs": [],
   "source": [
    "arr1=np.array([1,2,3,5])\n",
    "# arr2=arr1 wrong\n",
    "arr2=arr1.copy()#right way\n",
    "print(arr2)\n",
    "arr2[0]=11\n",
    "print(arr2)\n",
    "print(arr1)#orignal also got updated"
   ]
  },
  {
   "cell_type": "code",
   "execution_count": null,
   "id": "aa5ae739",
   "metadata": {},
   "outputs": [],
   "source": [
    "#mathematical operations using numpy"
   ]
  },
  {
   "cell_type": "code",
   "execution_count": null,
   "id": "adff3aa7",
   "metadata": {},
   "outputs": [],
   "source": [
    "a=np.array([1,2,4,8],dtype='int16')\n",
    "print(a)"
   ]
  },
  {
   "cell_type": "code",
   "execution_count": null,
   "id": "4d420fdf",
   "metadata": {},
   "outputs": [],
   "source": [
    "a+2"
   ]
  },
  {
   "cell_type": "code",
   "execution_count": null,
   "id": "e3dcf38a",
   "metadata": {},
   "outputs": [],
   "source": [
    "a-2"
   ]
  },
  {
   "cell_type": "code",
   "execution_count": null,
   "id": "0103b2d9",
   "metadata": {},
   "outputs": [],
   "source": [
    "a*2"
   ]
  },
  {
   "cell_type": "code",
   "execution_count": null,
   "id": "ba27883c",
   "metadata": {},
   "outputs": [],
   "source": [
    "a/2"
   ]
  },
  {
   "cell_type": "code",
   "execution_count": null,
   "id": "1c0b0e6a",
   "metadata": {},
   "outputs": [],
   "source": [
    "b=np.array([4,5,6,7],dtype='int16')\n",
    "print(a+b)"
   ]
  },
  {
   "cell_type": "code",
   "execution_count": null,
   "id": "26e36a7e",
   "metadata": {},
   "outputs": [],
   "source": [
    "print(a)"
   ]
  },
  {
   "cell_type": "code",
   "execution_count": null,
   "id": "28a3e65f",
   "metadata": {},
   "outputs": [],
   "source": [
    "print(a**3)#print power of elements of a\n",
    "print(a)\n",
    "print(b)\n",
    "print(a*b)"
   ]
  },
  {
   "cell_type": "code",
   "execution_count": null,
   "id": "4da75afa",
   "metadata": {},
   "outputs": [],
   "source": [
    "#trignometric calculations\n",
    "print(np.sin(a))\n",
    "print(np.cos(a))"
   ]
  },
  {
   "cell_type": "markdown",
   "id": "d0686e38",
   "metadata": {},
   "source": [
    "LINEAR ALGEBRA"
   ]
  },
  {
   "cell_type": "code",
   "execution_count": null,
   "id": "96bafbe1",
   "metadata": {},
   "outputs": [],
   "source": [
    "a=np.ones((3,3),dtype='int16')\n",
    "print(a)\n",
    "\n",
    "b=np.full((3,3),2,dtype='int16')\n",
    "print(b)\n",
    "\n",
    "print(np.matmul(a,b))"
   ]
  },
  {
   "cell_type": "code",
   "execution_count": null,
   "id": "db350be9",
   "metadata": {},
   "outputs": [],
   "source": [
    "#find the determinant of the matrices\n",
    "c=np.identity(3)\n",
    "print(c)\n",
    "print(np.linalg.det(c))\n",
    "print(np.linalg.det(a))"
   ]
  },
  {
   "cell_type": "markdown",
   "id": "0630984d",
   "metadata": {},
   "source": [
    "STATISTICS"
   ]
  },
  {
   "cell_type": "code",
   "execution_count": null,
   "id": "2d43661f",
   "metadata": {},
   "outputs": [],
   "source": [
    "#finding the minium and maximum of elements of an array or matrices\n",
    "x=np.array([[1,-8,6],[5,3,11]])\n",
    "print(np.min(x))\n",
    "print(np.max(x))"
   ]
  },
  {
   "cell_type": "code",
   "execution_count": null,
   "id": "727e431c",
   "metadata": {},
   "outputs": [],
   "source": [
    "#finding min max of all rows and columns\n",
    "print(np.min(x,axis=1))#minimum along all rows\n",
    "print(np.min(x,axis=0))#minumum alonga all columns\n",
    "print(np.max(x,axis=0))\n",
    "print(np.max(x,axis=1))"
   ]
  },
  {
   "cell_type": "code",
   "execution_count": null,
   "id": "8a5fa5b4",
   "metadata": {},
   "outputs": [],
   "source": [
    "#sum of elements of matrices\n",
    "print(np.sum(x))\n",
    "print(np.sum(x,axis=1))\n",
    "print(np.sum(x,axis=0))"
   ]
  },
  {
   "cell_type": "markdown",
   "id": "a8fb2b6a",
   "metadata": {},
   "source": [
    "REARRANGING NUMPY ARRAYS"
   ]
  },
  {
   "cell_type": "code",
   "execution_count": null,
   "id": "de501861",
   "metadata": {},
   "outputs": [],
   "source": [
    "before=np.array([[1,2,3,4],[5,6,7,8]])\n",
    "print(before)\n",
    "\n",
    "after=before.reshape((8,1))\n",
    "print(after)\n",
    "after=before.reshape((4,2))\n",
    "print(after)\n",
    "after=before.reshape((2,2,2))\n",
    "print(after)\n",
    "after=before.reshape((1,8))\n",
    "print(after)"
   ]
  },
  {
   "cell_type": "code",
   "execution_count": null,
   "id": "c5be5129",
   "metadata": {},
   "outputs": [],
   "source": [
    "#vertical stacking of vectors\n",
    "v1=np.array([1,2,3],dtype='int16')\n",
    "v2=np.array([4,5,6],dtype='int16')\n",
    "print(np.vstack([v1,v2,v1,v2,v2,v2]))"
   ]
  },
  {
   "cell_type": "code",
   "execution_count": null,
   "id": "8da651bf",
   "metadata": {},
   "outputs": [],
   "source": [
    "#Horizontal stacking of vectors\n",
    "v1=np.array([1,2,3,4])\n",
    "v2=np.array([4,5,6])\n",
    "print(np.hstack((v1,v2,v2,v2)))"
   ]
  },
  {
   "cell_type": "code",
   "execution_count": null,
   "id": "6fe669f5",
   "metadata": {},
   "outputs": [],
   "source": []
  }
 ],
 "metadata": {
  "kernelspec": {
   "display_name": "Python 3 (ipykernel)",
   "language": "python",
   "name": "python3"
  },
  "language_info": {
   "codemirror_mode": {
    "name": "ipython",
    "version": 3
   },
   "file_extension": ".py",
   "mimetype": "text/x-python",
   "name": "python",
   "nbconvert_exporter": "python",
   "pygments_lexer": "ipython3",
   "version": "3.11.0"
  }
 },
 "nbformat": 4,
 "nbformat_minor": 5
}
