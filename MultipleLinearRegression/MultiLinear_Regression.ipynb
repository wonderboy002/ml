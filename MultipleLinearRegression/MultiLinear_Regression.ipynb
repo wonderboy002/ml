{
 "cells": [
  {
   "cell_type": "code",
   "execution_count": 1,
   "metadata": {},
   "outputs": [],
   "source": [
    "import numpy as np"
   ]
  },
  {
   "cell_type": "code",
   "execution_count": 4,
   "id": "9b8f0ac6",
   "metadata": {},
   "outputs": [],
   "source": [
    "#regression model that predicts housing prices based on size of the house in sq feets,number of bedrooms,numbers of floors and age\n",
    "#dataset\n",
    "x_train=np.array([[2104, 5, 1, 45],[1416, 3, 2, 40],[852, 2, 1, 35]],dtype='int32')\n",
    "y_train=np.array([460,232,178],dtype='float')\n"
   ]
  },
  {
   "cell_type": "code",
   "execution_count": 11,
   "id": "6c4b4869",
   "metadata": {},
   "outputs": [
    {
     "name": "stdout",
     "output_type": "stream",
     "text": [
      "Shape of features vector (3, 4) and type <class 'numpy.ndarray'>\n",
      "[[2104    5    1   45]\n",
      " [1416    3    2   40]\n",
      " [ 852    2    1   35]]\n",
      "Shape of output vector (3,) and type <class 'numpy.ndarray'>\n",
      "[460. 232. 178.]\n"
     ]
    }
   ],
   "source": [
    "print(f\"Shape of features vector {x_train.shape} and type {type(x_train)}\")\n",
    "print(x_train)\n",
    "print(f\"Shape of output vector {y_train.shape} and type {type(y_train)}\")\n",
    "print(y_train)"
   ]
  },
  {
   "cell_type": "code",
   "execution_count": 12,
   "id": "8a396d7d",
   "metadata": {},
   "outputs": [
    {
     "name": "stdout",
     "output_type": "stream",
     "text": [
      "w_init shape: (4,), b_init type: <class 'float'>\n"
     ]
    }
   ],
   "source": [
    "#storing parameter vector w ,b initial values\n",
    "b_init = 785.1811367994083\n",
    "w_init = np.array([ 0.39133535, 18.75376741, -53.36032453, -26.42131618])\n",
    "print(f\"w_init shape: {w_init.shape}, b_init type: {type(b_init)}\")"
   ]
  },
  {
   "cell_type": "code",
   "execution_count": 13,
   "id": "07665685",
   "metadata": {},
   "outputs": [],
   "source": [
    "#prepare prediction model\n",
    "def predict(x,w,b):\n",
    "    p=np.dot(x,w)+b\n",
    "    return p\n"
   ]
  },
  {
   "cell_type": "code",
   "execution_count": 18,
   "id": "004e88f5",
   "metadata": {},
   "outputs": [
    {
     "name": "stdout",
     "output_type": "stream",
     "text": [
      "[2104    5    1   45]\n",
      "predicted value 459.9999976194083\n"
     ]
    }
   ],
   "source": [
    "#make a prediction\n",
    "x_1=x_train[0]\n",
    "print(x_1)\n",
    "\n",
    "print(f\"predicted value {predict(x_1,w_init,b_init)}\")"
   ]
  },
  {
   "cell_type": "code",
   "execution_count": 21,
   "id": "ce067270",
   "metadata": {},
   "outputs": [],
   "source": [
    "#computing cost for multiple features\n",
    "def compute_cost(x,y,w,b):\n",
    "    m=x.shape[0]\n",
    "    cost=0\n",
    "\n",
    "    for i in range(m):\n",
    "        f_wb_i=np.dot(x[i],w)+b\n",
    "        cost=cost+(f_wb_i-y[i])**2\n",
    "    cost=cost/(2*m)\n",
    "    return cost"
   ]
  },
  {
   "cell_type": "code",
   "execution_count": 22,
   "id": "8b33fa8a",
   "metadata": {},
   "outputs": [
    {
     "name": "stdout",
     "output_type": "stream",
     "text": [
      "cost : 1.5578904428966628e-12\n"
     ]
    }
   ],
   "source": [
    "#computing cost with pre defined parameters\n",
    "print(f\"cost : {compute_cost(x_train,y_train,w_init,b_init)}\")"
   ]
  },
  {
   "cell_type": "markdown",
   "id": "3aebac80",
   "metadata": {},
   "source": [
    "Gradient descent with multiple regression"
   ]
  },
  {
   "cell_type": "code",
   "execution_count": null,
   "id": "a0b904cc",
   "metadata": {},
   "outputs": [],
   "source": []
  }
 ],
 "metadata": {
  "kernelspec": {
   "display_name": "Python 3",
   "language": "python",
   "name": "python3"
  },
  "language_info": {
   "codemirror_mode": {
    "name": "ipython",
    "version": 3
   },
   "file_extension": ".py",
   "mimetype": "text/x-python",
   "name": "python",
   "nbconvert_exporter": "python",
   "pygments_lexer": "ipython3",
   "version": "3.11.0"
  }
 },
 "nbformat": 4,
 "nbformat_minor": 5
}
